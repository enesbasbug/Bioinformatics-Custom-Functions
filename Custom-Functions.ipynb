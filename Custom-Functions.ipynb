{
 "cells": [
  {
   "cell_type": "markdown",
   "metadata": {},
   "source": [
    "### Creating Custom Functions for Bioinformatics with Python\n",
    "+ DNA\n",
    "    - freq of nucleotides\n",
    "    - gc_content\n",
    "    - at_content\n",
    "    - complement\n",
    "    - reverse_complement\n",
    "    - transcribe\n",
    "    - translate\n",
    "    - find subseq\n",
    "    - occurence of codons\n",
    "    - kmers\n",
    "    - codon converter\n",
    "    - hamming_distance\n",
    "+ Protein\n",
    "    - freq\n",
    "    \n",
    "+ Seq:ATTAAAGGTTTATACCTTCCCAGGTAACAAACCAACCAA"
   ]
  },
  {
   "cell_type": "markdown",
   "metadata": {},
   "source": [
    "### Freq or Count of Nucleotides\n",
    "+ counter\n",
    "+ custom fxn"
   ]
  },
  {
   "cell_type": "code",
   "execution_count": 1,
   "metadata": {},
   "outputs": [
    {
     "data": {
      "text/plain": [
       "Counter({'A': 1, 'C': 2, 'T': 3, 'G': 1})"
      ]
     },
     "execution_count": 1,
     "metadata": {},
     "output_type": "execute_result"
    }
   ],
   "source": [
    "# Method 1 using counter\n",
    "from collections import Counter\n",
    "\n",
    "Counter('ACTGTTC')"
   ]
  },
  {
   "cell_type": "code",
   "execution_count": 5,
   "metadata": {},
   "outputs": [],
   "source": [
    "seq1 = 'ATTAAAGGTTTATACCTTCCCAGGTAACAAACCAACCAA'"
   ]
  },
  {
   "cell_type": "code",
   "execution_count": 6,
   "metadata": {},
   "outputs": [
    {
     "data": {
      "text/plain": [
       "{'A': 16, 'T': 9, 'G': 4, 'C': 10}"
      ]
     },
     "execution_count": 6,
     "metadata": {},
     "output_type": "execute_result"
    }
   ],
   "source": [
    "# Method 2 using custom func.\n",
    "def get_symbol_frequency(seq):\n",
    "    base_dict = {\"A\":0, \"T\":0, \"G\":0, \"C\":0}\n",
    "    for base in seq:\n",
    "        base_dict[base] += 1\n",
    "    return base_dict\n",
    "\n",
    "get_symbol_frequency(seq1)"
   ]
  },
  {
   "cell_type": "code",
   "execution_count": 15,
   "metadata": {},
   "outputs": [
    {
     "data": {
      "text/plain": [
       "\"NucleotiedError: X not a nucleotide ['A,T,G,C']\""
      ]
     },
     "execution_count": 15,
     "metadata": {},
     "output_type": "execute_result"
    }
   ],
   "source": [
    "# Test for Bugs\n",
    "seq2 = 'ATTGCAXN'\n",
    "\n",
    "get_symbol_frequency(seq2)"
   ]
  },
  {
   "cell_type": "code",
   "execution_count": null,
   "metadata": {},
   "outputs": [],
   "source": []
  },
  {
   "cell_type": "markdown",
   "metadata": {},
   "source": [
    "### Validate our Nucleotide"
   ]
  },
  {
   "cell_type": "code",
   "execution_count": 10,
   "metadata": {},
   "outputs": [
    {
     "name": "stdout",
     "output_type": "stream",
     "text": [
      "ATTAAAGGTTTATACCTTCCCAGGTAACAAACCAACCAA\n",
      "False\n"
     ]
    }
   ],
   "source": [
    "def validate_seq(seq):\n",
    "    base_nucleotide = [\"A\",\"T\",\"G\",\"C\"]\n",
    "    real_seq = seq.upper()\n",
    "    for base in real_seq:\n",
    "        if base not in base_nucleotide:\n",
    "            return False\n",
    "    return real_seq\n",
    "\n",
    "print(validate_seq(seq1))\n",
    "print(validate_seq(seq2))"
   ]
  },
  {
   "cell_type": "code",
   "execution_count": 11,
   "metadata": {},
   "outputs": [],
   "source": [
    "# Method 2 using custom func\n",
    "def get_symbol_frequency(seq):\n",
    "    base_dict = {\"A\":0,\"T\":0,\"G\":0,\"C\":0}\n",
    "    for base in seq:\n",
    "        if validate_seq(base) != False:\n",
    "            base_dict[base] += 1\n",
    "        else:\n",
    "            return \"NucleotiedError: {} not a nucleotide ['A,T,G,C']\".format(base)\n",
    "    return base_dict\n"
   ]
  },
  {
   "cell_type": "code",
   "execution_count": 12,
   "metadata": {},
   "outputs": [
    {
     "data": {
      "text/plain": [
       "'ATTAAAGGTTTATACCTTCCCAGGTAACAAACCAACCAA'"
      ]
     },
     "execution_count": 12,
     "metadata": {},
     "output_type": "execute_result"
    }
   ],
   "source": [
    "seq1"
   ]
  },
  {
   "cell_type": "code",
   "execution_count": 13,
   "metadata": {},
   "outputs": [
    {
     "data": {
      "text/plain": [
       "{'A': 16, 'T': 9, 'G': 4, 'C': 10}"
      ]
     },
     "execution_count": 13,
     "metadata": {},
     "output_type": "execute_result"
    }
   ],
   "source": [
    "get_symbol_frequency(seq1)"
   ]
  },
  {
   "cell_type": "code",
   "execution_count": 14,
   "metadata": {},
   "outputs": [
    {
     "data": {
      "text/plain": [
       "\"NucleotiedError: X not a nucleotide ['A,T,G,C']\""
      ]
     },
     "execution_count": 14,
     "metadata": {},
     "output_type": "execute_result"
    }
   ],
   "source": [
    "get_symbol_frequency(seq2)"
   ]
  },
  {
   "cell_type": "code",
   "execution_count": null,
   "metadata": {},
   "outputs": [],
   "source": []
  },
  {
   "cell_type": "markdown",
   "metadata": {},
   "source": [
    "### DNA Composition : GC,AT content\n",
    "+ count\n"
   ]
  },
  {
   "cell_type": "code",
   "execution_count": 16,
   "metadata": {},
   "outputs": [
    {
     "data": {
      "text/plain": [
       "2"
      ]
     },
     "execution_count": 16,
     "metadata": {},
     "output_type": "execute_result"
    }
   ],
   "source": [
    "\"ATCTA\".count(\"T\")"
   ]
  },
  {
   "cell_type": "code",
   "execution_count": 17,
   "metadata": {},
   "outputs": [
    {
     "data": {
      "text/plain": [
       "35.8974358974359"
      ]
     },
     "execution_count": 17,
     "metadata": {},
     "output_type": "execute_result"
    }
   ],
   "source": [
    "# GC Content\n",
    "def gc_content(seq):\n",
    "    result = float(str(seq).count('G') + str(seq).count('C')) / len(seq) * 100\n",
    "    return result\n",
    "\n",
    "gc_content(seq1)"
   ]
  },
  {
   "cell_type": "markdown",
   "metadata": {},
   "source": [
    "### AT Content"
   ]
  },
  {
   "cell_type": "code",
   "execution_count": 19,
   "metadata": {},
   "outputs": [
    {
     "data": {
      "text/plain": [
       "64.1025641025641"
      ]
     },
     "execution_count": 19,
     "metadata": {},
     "output_type": "execute_result"
    }
   ],
   "source": [
    "# AT Content\n",
    "def at_content(seq):\n",
    "    result = float(str(seq).count('A') + str(seq).count('T'))/len(seq) *100\n",
    "    return result\n",
    "\n",
    "at_content(seq1)"
   ]
  },
  {
   "cell_type": "code",
   "execution_count": null,
   "metadata": {},
   "outputs": [],
   "source": []
  },
  {
   "cell_type": "markdown",
   "metadata": {},
   "source": [
    "#### Complement\n",
    "+ AT\n",
    "+ GC"
   ]
  },
  {
   "cell_type": "code",
   "execution_count": 20,
   "metadata": {},
   "outputs": [
    {
     "name": "stdout",
     "output_type": "stream",
     "text": [
      "A T\n",
      "T A\n",
      "G C\n",
      "C G\n"
     ]
    }
   ],
   "source": [
    "base_pairs = {\"A\":\"T\", \"G\":\"C\", \"C\":\"G\", \"T\":\"A\"}\n",
    "comp_pairs = []\n",
    "for a in \"ATGC\":\n",
    "    if a in base_pairs.keys():\n",
    "        print(a, base_pairs[a])\n",
    "        comp_pairs.append(base_pairs[a])\n"
   ]
  },
  {
   "cell_type": "code",
   "execution_count": 21,
   "metadata": {},
   "outputs": [
    {
     "data": {
      "text/plain": [
       "'TACG'"
      ]
     },
     "execution_count": 21,
     "metadata": {},
     "output_type": "execute_result"
    }
   ],
   "source": [
    "\"\".join(comp_pairs)"
   ]
  },
  {
   "cell_type": "code",
   "execution_count": 22,
   "metadata": {},
   "outputs": [
    {
     "data": {
      "text/plain": [
       "'TACGG'"
      ]
     },
     "execution_count": 22,
     "metadata": {},
     "output_type": "execute_result"
    }
   ],
   "source": [
    "# Method 1 \n",
    "def complement(seq):\n",
    "    base_pairs = {\"A\":\"T\", \"T\":\"A\", \"G\":\"C\", \"C\":\"G\"}\n",
    "    comp_pairs = []\n",
    "    for a in seq:\n",
    "        if a in base_pairs.keys():\n",
    "            comp_pairs.append(base_pairs[a])\n",
    "    return \"\".join(comp_pairs)\n",
    "\n",
    "complement(\"ATGCC\")"
   ]
  },
  {
   "cell_type": "code",
   "execution_count": 24,
   "metadata": {},
   "outputs": [
    {
     "data": {
      "text/plain": [
       "'ATTAAAGGTTTATACCTTCCCAGGTAACAAACCAACCAA'"
      ]
     },
     "execution_count": 24,
     "metadata": {},
     "output_type": "execute_result"
    }
   ],
   "source": [
    "seq1"
   ]
  },
  {
   "cell_type": "code",
   "execution_count": 23,
   "metadata": {},
   "outputs": [
    {
     "data": {
      "text/plain": [
       "'TAATTTCCAAATATGGAAGGGTCCATTGTTTGGTTGGTT'"
      ]
     },
     "execution_count": 23,
     "metadata": {},
     "output_type": "execute_result"
    }
   ],
   "source": [
    "complement(seq1)"
   ]
  },
  {
   "cell_type": "code",
   "execution_count": 26,
   "metadata": {},
   "outputs": [
    {
     "data": {
      "text/plain": [
       "'TACGG'"
      ]
     },
     "execution_count": 26,
     "metadata": {},
     "output_type": "execute_result"
    }
   ],
   "source": [
    "# Method 2 - using list comprehension\n",
    "def complement2(seq):\n",
    "    base_pairs = {\"A\":\"T\", \"T\":\"A\", \"G\":\"C\", \"C\":\"G\"}\n",
    "    comp_pairs = [base_pairs[a] for a in seq if a in base_pairs.keys()]\n",
    "    return \"\".join(comp_pairs)\n",
    "    \n",
    "\n",
    "complement2('ATGCC')"
   ]
  },
  {
   "cell_type": "code",
   "execution_count": 27,
   "metadata": {},
   "outputs": [
    {
     "data": {
      "text/plain": [
       "'TAATTTCCAAATATGGAAGGGTCCATTGTTTGGTTGGTT'"
      ]
     },
     "execution_count": 27,
     "metadata": {},
     "output_type": "execute_result"
    }
   ],
   "source": [
    "complement2(seq1)"
   ]
  },
  {
   "cell_type": "code",
   "execution_count": null,
   "metadata": {},
   "outputs": [],
   "source": []
  },
  {
   "cell_type": "markdown",
   "metadata": {},
   "source": [
    "### Reverse Complement\n",
    "+ complement\n",
    "+ reverse"
   ]
  },
  {
   "cell_type": "code",
   "execution_count": 37,
   "metadata": {},
   "outputs": [
    {
     "data": {
      "text/plain": [
       "'CCGAT'"
      ]
     },
     "execution_count": 37,
     "metadata": {},
     "output_type": "execute_result"
    }
   ],
   "source": [
    "# Method 2 using list comprehension\n",
    "def reverse_complement(seq):\n",
    "    base_pairs = {\"A\":\"T\", \"T\":\"A\", \"G\":\"C\", \"C\":\"G\"}\n",
    "    comp_pairs = [base_pairs[a] for a in seq if a in base_pairs.keys()]\n",
    "    reverse_pairs = \"\".join(comp_pairs)[::-1]\n",
    "    return reverse_pairs\n",
    "\n",
    "reverse_complement('ATCGG')"
   ]
  },
  {
   "cell_type": "code",
   "execution_count": 40,
   "metadata": {},
   "outputs": [
    {
     "data": {
      "text/plain": [
       "'ATTAAAGGTTTATACCTTCCCAGGTAACAAACCAACCAA'"
      ]
     },
     "execution_count": 40,
     "metadata": {},
     "output_type": "execute_result"
    }
   ],
   "source": [
    "seq1"
   ]
  },
  {
   "cell_type": "code",
   "execution_count": 39,
   "metadata": {},
   "outputs": [
    {
     "data": {
      "text/plain": [
       "'TTGGTTGGTTTGTTACCTGGGAAGGTATAAACCTTTAAT'"
      ]
     },
     "execution_count": 39,
     "metadata": {},
     "output_type": "execute_result"
    }
   ],
   "source": [
    "reverse_complement(seq1)"
   ]
  },
  {
   "cell_type": "code",
   "execution_count": null,
   "metadata": {},
   "outputs": [],
   "source": []
  },
  {
   "cell_type": "markdown",
   "metadata": {},
   "source": [
    "### Protein Synthesis\n",
    "+ Transcription : DNA to mRNA\n",
    "+ Translation : mRNA to Amino Acid/Protein"
   ]
  },
  {
   "cell_type": "markdown",
   "metadata": {},
   "source": [
    "#### - Transcription\n",
    "+ RNA :AUGC\n",
    "+ DNA:ATGC"
   ]
  },
  {
   "cell_type": "code",
   "execution_count": 41,
   "metadata": {},
   "outputs": [],
   "source": [
    "def transcribe(seq):\n",
    "    mrna = seq.replace('T','U')\n",
    "    return mrna"
   ]
  },
  {
   "cell_type": "code",
   "execution_count": 42,
   "metadata": {},
   "outputs": [
    {
     "data": {
      "text/plain": [
       "'ATTAAAGGTTTATACCTTCCCAGGTAACAAACCAACCAA'"
      ]
     },
     "execution_count": 42,
     "metadata": {},
     "output_type": "execute_result"
    }
   ],
   "source": [
    "seq1"
   ]
  },
  {
   "cell_type": "code",
   "execution_count": 43,
   "metadata": {},
   "outputs": [
    {
     "data": {
      "text/plain": [
       "'AUUAAAGGUUUAUACCUUCCCAGGUAACAAACCAACCAA'"
      ]
     },
     "execution_count": 43,
     "metadata": {},
     "output_type": "execute_result"
    }
   ],
   "source": [
    "transcribe(seq1)"
   ]
  },
  {
   "cell_type": "markdown",
   "metadata": {},
   "source": [
    "#### - Translation\n",
    "+ mRNA => AA\n",
    "+ AA = 3 nucleotides == Codons\n",
    "+ dictionary of codon == AA"
   ]
  },
  {
   "cell_type": "code",
   "execution_count": 45,
   "metadata": {},
   "outputs": [],
   "source": [
    "# Translate\n",
    "CodonTable = {\n",
    "    # 'M' - START, '*' - STOP\n",
    "    \"GCT\": \"A\", \"GCC\": \"A\", \"GCA\": \"A\", \"GCG\": \"A\",\n",
    "    \"TGT\": \"C\", \"TGC\": \"C\",\n",
    "    \"GAT\": \"D\", \"GAC\": \"D\",\n",
    "    \"GAA\": \"E\", \"GAG\": \"E\",\n",
    "    \"TTT\": \"F\", \"TTC\": \"F\",\n",
    "    \"GGT\": \"G\", \"GGC\": \"G\", \"GGA\": \"G\", \"GGG\": \"G\",\n",
    "    \"CAT\": \"H\", \"CAC\": \"H\",\n",
    "    \"ATA\": \"I\", \"ATT\": \"I\", \"ATC\": \"I\",\n",
    "    \"AAA\": \"K\", \"AAG\": \"K\",\n",
    "    \"TTA\": \"L\", \"TTG\": \"L\", \"CTT\": \"L\", \"CTC\": \"L\", \"CTA\": \"L\", \"CTG\": \"L\",\n",
    "    \"ATG\": \"M\",\n",
    "    \"AAT\": \"N\", \"AAC\": \"N\",\n",
    "    \"CCT\": \"P\", \"CCC\": \"P\", \"CCA\": \"P\", \"CCG\": \"P\",\n",
    "    \"CAA\": \"Q\", \"CAG\": \"Q\",\n",
    "    \"CGT\": \"R\", \"CGC\": \"R\", \"CGA\": \"R\", \"CGG\": \"R\", \"AGA\": \"R\", \"AGG\": \"R\",\n",
    "    \"TCT\": \"S\", \"TCC\": \"S\", \"TCA\": \"S\", \"TCG\": \"S\", \"AGT\": \"S\", \"AGC\": \"S\",\n",
    "    \"ACT\": \"T\", \"ACC\": \"T\", \"ACA\": \"T\", \"ACG\": \"T\",\n",
    "    \"GTT\": \"V\", \"GTC\": \"V\", \"GTA\": \"V\", \"GTG\": \"V\",\n",
    "    \"TGG\": \"W\",\n",
    "    \"TAT\": \"Y\", \"TAC\": \"Y\",\n",
    "    \"TAA\": \"*\", \"TAG\": \"*\", \"TGA\": \"*\"\n",
    "}"
   ]
  },
  {
   "cell_type": "code",
   "execution_count": 50,
   "metadata": {},
   "outputs": [
    {
     "name": "stdout",
     "output_type": "stream",
     "text": [
      "IKGLYLPR*QTNQ\n",
      "IKGLYLPR*QTNQ\n"
     ]
    }
   ],
   "source": [
    "\n",
    "# Method 1 \n",
    "def dna_translate(seq1, start_pos=0):\n",
    "    amino_acids_list = []\n",
    "    for pos in range(start_pos,len(seq)-2,3):\n",
    "        amino_acids_list.append(CodonTable[seq[pos:pos + 3]])\n",
    "    return \"\".join(amino_acids_list)\n",
    "\n",
    "# Method 2\n",
    "def dna_translate2(seq,start_pos=0):\n",
    "    amino_acids_list =[CodonTable[seq[pos:pos + 3]] for pos in range(start_pos,len(seq)-2,3)]\n",
    "    return \"\".join(amino_acids_list)\n",
    "\n",
    "print(dna_translate(seq1))\n",
    "print(dna_translate2(seq1))\n",
    "        \n",
    "        "
   ]
  },
  {
   "cell_type": "markdown",
   "metadata": {},
   "source": [
    "#### - 1 letter to 3 or 3 to 1"
   ]
  },
  {
   "cell_type": "code",
   "execution_count": 51,
   "metadata": {},
   "outputs": [
    {
     "data": {
      "text/html": [
       "<div>\n",
       "<style scoped>\n",
       "    .dataframe tbody tr th:only-of-type {\n",
       "        vertical-align: middle;\n",
       "    }\n",
       "\n",
       "    .dataframe tbody tr th {\n",
       "        vertical-align: top;\n",
       "    }\n",
       "\n",
       "    .dataframe thead th {\n",
       "        text-align: right;\n",
       "    }\n",
       "</style>\n",
       "<table border=\"1\" class=\"dataframe\">\n",
       "  <thead>\n",
       "    <tr style=\"text-align: right;\">\n",
       "      <th></th>\n",
       "      <th>Amino acids</th>\n",
       "      <th>Symbols</th>\n",
       "      <th>Unnamed: 2</th>\n",
       "      <th>Codons</th>\n",
       "    </tr>\n",
       "  </thead>\n",
       "  <tbody>\n",
       "    <tr>\n",
       "      <th>0</th>\n",
       "      <td>Alanine</td>\n",
       "      <td>Ala</td>\n",
       "      <td>A</td>\n",
       "      <td>GCA, GCC, GCG, GCU</td>\n",
       "    </tr>\n",
       "    <tr>\n",
       "      <th>1</th>\n",
       "      <td>Cysteine</td>\n",
       "      <td>Cys</td>\n",
       "      <td>C</td>\n",
       "      <td>UGC, UGU</td>\n",
       "    </tr>\n",
       "    <tr>\n",
       "      <th>2</th>\n",
       "      <td>Aspartic acid</td>\n",
       "      <td>Asp</td>\n",
       "      <td>D</td>\n",
       "      <td>GAC, GAU</td>\n",
       "    </tr>\n",
       "    <tr>\n",
       "      <th>3</th>\n",
       "      <td>Glutamic acid</td>\n",
       "      <td>Glu</td>\n",
       "      <td>E</td>\n",
       "      <td>GAA, GAG</td>\n",
       "    </tr>\n",
       "    <tr>\n",
       "      <th>4</th>\n",
       "      <td>Phenylalanine</td>\n",
       "      <td>Phe</td>\n",
       "      <td>F</td>\n",
       "      <td>UUC, UUU</td>\n",
       "    </tr>\n",
       "  </tbody>\n",
       "</table>\n",
       "</div>"
      ],
      "text/plain": [
       "     Amino acids Symbols Unnamed: 2              Codons\n",
       "0        Alanine     Ala          A  GCA, GCC, GCG, GCU\n",
       "1       Cysteine     Cys          C            UGC, UGU\n",
       "2  Aspartic acid     Asp          D            GAC, GAU\n",
       "3  Glutamic acid     Glu          E            GAA, GAG\n",
       "4  Phenylalanine     Phe          F            UUC, UUU"
      ]
     },
     "execution_count": 51,
     "metadata": {},
     "output_type": "execute_result"
    }
   ],
   "source": [
    "import pandas as pd\n",
    "df = pd.read_csv(\"amino_acids_codontable.csv\")\n",
    "df.head()"
   ]
  },
  {
   "cell_type": "code",
   "execution_count": 52,
   "metadata": {},
   "outputs": [
    {
     "data": {
      "text/plain": [
       "Index(['Amino acids', 'Symbols', 'Unnamed: 2', 'Codons'], dtype='object')"
      ]
     },
     "execution_count": 52,
     "metadata": {},
     "output_type": "execute_result"
    }
   ],
   "source": [
    "df.columns"
   ]
  },
  {
   "cell_type": "code",
   "execution_count": 53,
   "metadata": {},
   "outputs": [
    {
     "data": {
      "text/plain": [
       "Index(['Amino acids', 'Symbols', 'Symb', 'Codons'], dtype='object')"
      ]
     },
     "execution_count": 53,
     "metadata": {},
     "output_type": "execute_result"
    }
   ],
   "source": [
    "df.rename(columns={\"Unnamed: 2\":\"Symb\"}, inplace = True)\n",
    "df.columns"
   ]
  },
  {
   "cell_type": "code",
   "execution_count": 54,
   "metadata": {},
   "outputs": [],
   "source": [
    "# Dictionary\n",
    "full_aa_dict = dict(zip(df['Amino acids'],df['Symbols']))\n",
    "\n",
    "# Dictionary\n",
    "full_aa_to_1_dict = dict(zip(df['Amino acids'],df['Symb']))"
   ]
  },
  {
   "cell_type": "code",
   "execution_count": 55,
   "metadata": {},
   "outputs": [
    {
     "data": {
      "text/plain": [
       "20"
      ]
     },
     "execution_count": 55,
     "metadata": {},
     "output_type": "execute_result"
    }
   ],
   "source": [
    "len(full_aa_to_1_dict.values())"
   ]
  },
  {
   "cell_type": "code",
   "execution_count": 59,
   "metadata": {},
   "outputs": [
    {
     "data": {
      "text/plain": [
       "{'Alanine': 'A',\n",
       " 'Cysteine': 'C',\n",
       " 'Aspartic acid': 'D',\n",
       " 'Glutamic acid': 'E',\n",
       " 'Phenylalanine': 'F',\n",
       " 'Glycine': 'G',\n",
       " 'Histidine': 'H',\n",
       " 'Isoleucine': 'I',\n",
       " 'Lysine': 'K',\n",
       " 'Leucine': 'L',\n",
       " 'Methionine': 'M',\n",
       " 'Asparagine': 'N',\n",
       " 'Proline': 'P',\n",
       " 'Glutamine': 'Q',\n",
       " 'Arginine': 'R',\n",
       " 'Serine': 'S',\n",
       " 'Threonine': 'T',\n",
       " 'Valine': 'V',\n",
       " 'Tryptophan': 'W',\n",
       " 'Tyrosine': 'Y'}"
      ]
     },
     "execution_count": 59,
     "metadata": {},
     "output_type": "execute_result"
    }
   ],
   "source": [
    "full_aa_to_1_dict"
   ]
  },
  {
   "cell_type": "code",
   "execution_count": 56,
   "metadata": {},
   "outputs": [
    {
     "data": {
      "text/plain": [
       "['0',\n",
       " '0',\n",
       " '0',\n",
       " '0',\n",
       " '0',\n",
       " '0',\n",
       " '0',\n",
       " '0',\n",
       " '0',\n",
       " '0',\n",
       " '0',\n",
       " '0',\n",
       " '0',\n",
       " '0',\n",
       " '0',\n",
       " '0',\n",
       " '0',\n",
       " '0',\n",
       " '0',\n",
       " '0']"
      ]
     },
     "execution_count": 56,
     "metadata": {},
     "output_type": "execute_result"
    }
   ],
   "source": [
    "zero = '0' * 20\n",
    "list(zero)"
   ]
  },
  {
   "cell_type": "code",
   "execution_count": 58,
   "metadata": {},
   "outputs": [
    {
     "data": {
      "text/plain": [
       "{'A': 0,\n",
       " 'C': 0,\n",
       " 'D': 0,\n",
       " 'E': 0,\n",
       " 'F': 0,\n",
       " 'G': 0,\n",
       " 'H': 0,\n",
       " 'I': 0,\n",
       " 'K': 0,\n",
       " 'L': 0,\n",
       " 'M': 0,\n",
       " 'N': 0,\n",
       " 'P': 0,\n",
       " 'Q': 0,\n",
       " 'R': 0,\n",
       " 'S': 0,\n",
       " 'T': 0,\n",
       " 'V': 0,\n",
       " 'W': 0,\n",
       " 'Y': 0}"
      ]
     },
     "execution_count": 58,
     "metadata": {},
     "output_type": "execute_result"
    }
   ],
   "source": [
    "new_acid_dict = dict(zip(full_aa_to_1_dict.values(),[int(i) for i in list(zero)]))\n",
    "new_acid_dict"
   ]
  },
  {
   "cell_type": "code",
   "execution_count": 60,
   "metadata": {},
   "outputs": [
    {
     "data": {
      "text/plain": [
       "{'Alanine': 'Ala',\n",
       " 'Cysteine': 'Cys',\n",
       " 'Aspartic acid': 'Asp',\n",
       " 'Glutamic acid': 'Glu',\n",
       " 'Phenylalanine': 'Phe',\n",
       " 'Glycine': 'Gly',\n",
       " 'Histidine': 'His',\n",
       " 'Isoleucine': 'Ile',\n",
       " 'Lysine': 'Lys',\n",
       " 'Leucine': 'Leu',\n",
       " 'Methionine': 'Met',\n",
       " 'Asparagine': 'Asn',\n",
       " 'Proline': 'Pro',\n",
       " 'Glutamine': 'Gln',\n",
       " 'Arginine': 'Arg',\n",
       " 'Serine': 'Ser',\n",
       " 'Threonine': 'Thr',\n",
       " 'Valine': 'Val',\n",
       " 'Tryptophan': 'Trp',\n",
       " 'Tyrosine': 'Tyr'}"
      ]
     },
     "execution_count": 60,
     "metadata": {},
     "output_type": "execute_result"
    }
   ],
   "source": [
    "full_aa_dict"
   ]
  },
  {
   "cell_type": "code",
   "execution_count": 61,
   "metadata": {},
   "outputs": [
    {
     "data": {
      "text/plain": [
       "{'Ala': 'A',\n",
       " 'Cys': 'C',\n",
       " 'Asp': 'D',\n",
       " 'Glu': 'E',\n",
       " 'Phe': 'F',\n",
       " 'Gly': 'G',\n",
       " 'His': 'H',\n",
       " 'Ile': 'I',\n",
       " 'Lys': 'K',\n",
       " 'Leu': 'L',\n",
       " 'Met': 'M',\n",
       " 'Asn': 'N',\n",
       " 'Pro': 'P',\n",
       " 'Gln': 'Q',\n",
       " 'Arg': 'R',\n",
       " 'Ser': 'S',\n",
       " 'Thr': 'T',\n",
       " 'Val': 'V',\n",
       " 'Trp': 'W',\n",
       " 'Tyr': 'Y'}"
      ]
     },
     "execution_count": 61,
     "metadata": {},
     "output_type": "execute_result"
    }
   ],
   "source": [
    "# Dictionary\n",
    "aa_3_to_1_dict = dict(zip(df['Symbols'],df['Symb']))\n",
    "aa_3_to_1_dict"
   ]
  },
  {
   "cell_type": "code",
   "execution_count": 62,
   "metadata": {},
   "outputs": [
    {
     "name": "stdout",
     "output_type": "stream",
     "text": [
      "Alanine\n",
      "Ala\n"
     ]
    }
   ],
   "source": [
    "# Get Keys\n",
    "def get_key(val,my_dict):\n",
    "    for key,value in my_dict.items():\n",
    "        if val == value:\n",
    "            return key\n",
    "\n",
    "def  get_value(val,my_dict):\n",
    "    for key,value in my_dict.items():\n",
    "        if val == key:\n",
    "            return value\n",
    "        \n",
    "print(get_key(\"Ala\",full_aa_dict))\n",
    "print(get_value(\"Alanine\",full_aa_dict))"
   ]
  },
  {
   "cell_type": "code",
   "execution_count": 63,
   "metadata": {},
   "outputs": [],
   "source": [
    "# Method 1: Converting 1 to 3 letter\n",
    "def convert1to3(seq):\n",
    "    term_list = []\n",
    "    for i in seq:\n",
    "        res = get_key(i, aa_3_to_1_dict)\n",
    "        term_list.append(res)\n",
    "    return \"\".join(term_list)\n"
   ]
  },
  {
   "cell_type": "code",
   "execution_count": 64,
   "metadata": {},
   "outputs": [
    {
     "data": {
      "text/plain": [
       "'IKGLYLPR*QTNQ'"
      ]
     },
     "execution_count": 64,
     "metadata": {},
     "output_type": "execute_result"
    }
   ],
   "source": [
    "dna_translate2(seq1)"
   ]
  },
  {
   "cell_type": "code",
   "execution_count": 65,
   "metadata": {},
   "outputs": [
    {
     "data": {
      "text/plain": [
       "'IleLysGlyLeuTyrLeuProArg'"
      ]
     },
     "execution_count": 65,
     "metadata": {},
     "output_type": "execute_result"
    }
   ],
   "source": [
    "convert1to3(\"IKGLYLPR\")"
   ]
  },
  {
   "cell_type": "code",
   "execution_count": null,
   "metadata": {},
   "outputs": [],
   "source": []
  },
  {
   "cell_type": "markdown",
   "metadata": {},
   "source": [
    "#### Convert form 3 to 1\n",
    "+ combination of nucleotide\n",
    "+ kmers\n",
    "+ nlp ngrams"
   ]
  },
  {
   "cell_type": "code",
   "execution_count": 66,
   "metadata": {},
   "outputs": [],
   "source": [
    "def kmers(seq,k=2):\n",
    "    pair_list = []\n",
    "    for i in range(0,len(seq),k):\n",
    "        pair_list.append(seq[i:i+k])\n",
    "    return pair_list"
   ]
  },
  {
   "cell_type": "code",
   "execution_count": 67,
   "metadata": {},
   "outputs": [
    {
     "data": {
      "text/plain": [
       "'ATTAAAGGTTTATACCTTCCCAGGTAACAAACCAACCAA'"
      ]
     },
     "execution_count": 67,
     "metadata": {},
     "output_type": "execute_result"
    }
   ],
   "source": [
    "seq1"
   ]
  },
  {
   "cell_type": "code",
   "execution_count": 68,
   "metadata": {},
   "outputs": [
    {
     "data": {
      "text/plain": [
       "['ATT',\n",
       " 'AAA',\n",
       " 'GGT',\n",
       " 'TTA',\n",
       " 'TAC',\n",
       " 'CTT',\n",
       " 'CCC',\n",
       " 'AGG',\n",
       " 'TAA',\n",
       " 'CAA',\n",
       " 'ACC',\n",
       " 'AAC',\n",
       " 'CAA']"
      ]
     },
     "execution_count": 68,
     "metadata": {},
     "output_type": "execute_result"
    }
   ],
   "source": [
    "kmers(seq1,k=3)"
   ]
  },
  {
   "cell_type": "code",
   "execution_count": 72,
   "metadata": {},
   "outputs": [
    {
     "data": {
      "text/plain": [
       "'IKG'"
      ]
     },
     "execution_count": 72,
     "metadata": {},
     "output_type": "execute_result"
    }
   ],
   "source": [
    "def convert3to1(seq):\n",
    "    term_list = []\n",
    "    for i in kmers(seq,k=3):\n",
    "        res = get_value(i,aa_3_to_1_dict)\n",
    "        term_list.append(res)\n",
    "    return ''.join(term_list)\n",
    "\n",
    "convert3to1(\"IleLysGly\")"
   ]
  },
  {
   "cell_type": "code",
   "execution_count": 74,
   "metadata": {},
   "outputs": [],
   "source": [
    "# Dictionary\n",
    "Full_AA_To_3 = {'Alanine': 'Ala',\n",
    " 'Cysteine': 'Cys',\n",
    " 'Aspartic acid': 'Asp',\n",
    " 'Glutamic acid': 'Glu',\n",
    " 'Phenylalanine': 'Phe',\n",
    " 'Glycine': 'Gly',\n",
    " 'Histidine': 'His',\n",
    " 'Isoleucine': 'Ile',\n",
    " 'Lysine': 'Lys',\n",
    " 'Leucine': 'Leu',\n",
    " 'Methionine': 'Met',\n",
    " 'Asparagine': 'Asn',\n",
    " 'Proline': 'Pro',\n",
    " 'Glutamine': 'Gln',\n",
    " 'Arginine': 'Arg',\n",
    " 'Serine': 'Ser',\n",
    " 'Threonine': 'Thr',\n",
    " 'Valine': 'Val',\n",
    " 'Tryptophan': 'Trp',\n",
    " 'Tyrosine': 'Tyr'}\n",
    "\n",
    "AA_3to1 = {'Ala': 'A',\n",
    " 'Cys': 'C',\n",
    " 'Asp': 'D',\n",
    " 'Glu': 'E',\n",
    " 'Phe': 'F',\n",
    " 'Gly': 'G',\n",
    " 'His': 'H',\n",
    " 'Ile': 'I',\n",
    " 'Lys': 'K',\n",
    " 'Leu': 'L',\n",
    " 'Met': 'M',\n",
    " 'Asn': 'N',\n",
    " 'Pro': 'P',\n",
    " 'Gln': 'Q',\n",
    " 'Arg': 'R',\n",
    " 'Ser': 'S',\n",
    " 'Thr': 'T',\n",
    " 'Val': 'V',\n",
    " 'Trp': 'W',\n",
    " 'Tyr': 'Y'}"
   ]
  },
  {
   "cell_type": "code",
   "execution_count": 81,
   "metadata": {},
   "outputs": [],
   "source": [
    "# Edit Distance\n",
    "# hamming distance\n",
    "# \"ATCTA\"\n",
    "# \"ACTTA\""
   ]
  },
  {
   "cell_type": "code",
   "execution_count": 78,
   "metadata": {},
   "outputs": [
    {
     "data": {
      "text/plain": [
       "2"
      ]
     },
     "execution_count": 78,
     "metadata": {},
     "output_type": "execute_result"
    }
   ],
   "source": [
    "def hamming_distance(lhs,rhs):\n",
    "    return len([(x,y) for x,y in zip(lhs,rhs) if x !=y])\n",
    "\n",
    "seqA = \"ATCTA\"\n",
    "seqB = \"ACTTA\"\n",
    "\n",
    "hamming_distance(seqA,seqB)"
   ]
  },
  {
   "cell_type": "code",
   "execution_count": 79,
   "metadata": {},
   "outputs": [
    {
     "data": {
      "text/plain": [
       "0"
      ]
     },
     "execution_count": 79,
     "metadata": {},
     "output_type": "execute_result"
    }
   ],
   "source": [
    "hamming_distance(seqA,seqA)"
   ]
  },
  {
   "cell_type": "code",
   "execution_count": 82,
   "metadata": {},
   "outputs": [],
   "source": [
    "### Occurence\n",
    "# subsequence\n",
    "\n",
    "def occurence(main_seq,sub_seq):\n",
    "    start= 0\n",
    "    indices =[]\n",
    "    while True:\n",
    "        start = main_seq.find(sub_seq,start)\n",
    "        if start > 0:\n",
    "            indices.append(start)\n",
    "        else:\n",
    "            break\n",
    "        start +=1\n",
    "    return indices"
   ]
  },
  {
   "cell_type": "code",
   "execution_count": 83,
   "metadata": {},
   "outputs": [
    {
     "data": {
      "text/plain": [
       "'ATTAAAGGTTTATACCTTCCCAGGTAACAAACCAACCAA'"
      ]
     },
     "execution_count": 83,
     "metadata": {},
     "output_type": "execute_result"
    }
   ],
   "source": [
    "seq1"
   ]
  },
  {
   "cell_type": "code",
   "execution_count": 84,
   "metadata": {},
   "outputs": [
    {
     "data": {
      "text/plain": [
       "[7]"
      ]
     },
     "execution_count": 84,
     "metadata": {},
     "output_type": "execute_result"
    }
   ],
   "source": [
    "occurence(seq1,\"GTT\")"
   ]
  },
  {
   "cell_type": "code",
   "execution_count": 88,
   "metadata": {},
   "outputs": [],
   "source": [
    "def get_amino_acid_name(seq):\n",
    "    term_list = []\n",
    "    for i in kmers(seq,k=3):\n",
    "        res = get_key(i,full_aa_dict)\n",
    "        term_list.append(res)\n",
    "    return ''.join(term_list)\n",
    "\n",
    "def get_amino_acid_name(seq,choice=\"3\"):\n",
    "    term_list = []\n",
    "    if choice == \"3\":\n",
    "        for i in kmers(seq,k=3):\n",
    "            res = get_key(i,full_aa_dict)\n",
    "            term_list.append(res)\n",
    "    elif choice  == \"1\":\n",
    "        for i in kmers(seq,k=3):\n",
    "            res = get_value(i,full_aato_1_dict)\n",
    "            term_list.append(res)\n",
    "        \n",
    "    return ''.join(term_list)\n"
   ]
  },
  {
   "cell_type": "code",
   "execution_count": 89,
   "metadata": {},
   "outputs": [
    {
     "data": {
      "text/plain": [
       "'Isoleucine'"
      ]
     },
     "execution_count": 89,
     "metadata": {},
     "output_type": "execute_result"
    }
   ],
   "source": [
    "get_amino_acid_name('Ile')"
   ]
  },
  {
   "cell_type": "code",
   "execution_count": null,
   "metadata": {},
   "outputs": [],
   "source": []
  }
 ],
 "metadata": {
  "kernelspec": {
   "display_name": "Python 3",
   "language": "python",
   "name": "python3"
  },
  "language_info": {
   "codemirror_mode": {
    "name": "ipython",
    "version": 3
   },
   "file_extension": ".py",
   "mimetype": "text/x-python",
   "name": "python",
   "nbconvert_exporter": "python",
   "pygments_lexer": "ipython3",
   "version": "3.7.6"
  }
 },
 "nbformat": 4,
 "nbformat_minor": 4
}
